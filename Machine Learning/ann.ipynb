{
 "cells": [
  {
   "cell_type": "code",
   "execution_count": null,
   "metadata": {},
   "outputs": [],
   "source": [
    "import numpy as np\n",
    "X = np.array(([2, 9], [1, 5], [3, 6]), dtype=float)\n",
    "y = np.array(([92], [86], [89]), dtype=float)\n",
    "X = X/np.amax(X, axis=0)\n",
    "y = y/100"
   ]
  },
  {
   "cell_type": "code",
   "execution_count": null,
   "metadata": {},
   "outputs": [],
   "source": [
    "\n",
    "\n",
    "def sigmoid(x):\n",
    " return 1/(1+np.exp(-x))\n",
    "\n"
   ]
  },
  {
   "cell_type": "code",
   "execution_count": null,
   "metadata": {},
   "outputs": [],
   "source": [
    "\n",
    "def sigmoid_grad(x):\n",
    " return x*(1-x)\n",
    "\n"
   ]
  },
  {
   "cell_type": "code",
   "execution_count": null,
   "metadata": {},
   "outputs": [],
   "source": [
    "\n",
    "epoch = 1000\n",
    "eta = 0.2\n",
    "input_neurons = 2\n",
    "hidden_neurons = 3\n",
    "output_neurons = 1\n",
    "wh = np.random.uniform(size=(input_neurons, hidden_neurons))\n",
    "bh = np.random.uniform(size=(1, hidden_neurons))\n",
    "wout = np.random.uniform(size=(hidden_neurons, output_neurons))\n",
    "bout = np.random.uniform(size=(1, output_neurons))\n"
   ]
  },
  {
   "cell_type": "code",
   "execution_count": null,
   "metadata": {},
   "outputs": [],
   "source": [
    "for i in range(epoch):\n",
    " h_ip = np.dot(X, wh)+bh\n",
    " h_act = sigmoid(h_ip)\n",
    " o_ip = np.dot(h_act, wout)\n",
    " output = sigmoid(o_ip)\n"
   ]
  },
  {
   "cell_type": "code",
   "execution_count": null,
   "metadata": {},
   "outputs": [],
   "source": [
    "Eo = y-output\n",
    "outgrad = sigmoid_grad(output)\n",
    "d_output = Eo*outgrad\n",
    "Eh = d_output.dot(wout.T)\n",
    "hiddengrad = sigmoid_grad(h_act)\n",
    "d_hidden = Eh*hiddengrad\n",
    "wout += h_act.T.dot(d_output)*eta\n",
    "wh += X.T.dot(d_hidden)*eta\n",
    "print(\"Normalized Input:\\n\"+str(X))\n",
    "print(\"Actual Output: \\n\" + str(y))\n",
    "print(\"Predicted Output : \\n\", output)\n"
   ]
  }
 ],
 "metadata": {
  "kernelspec": {
   "display_name": "Python 3.10.8 64-bit (microsoft store)",
   "language": "python",
   "name": "python3"
  },
  "language_info": {
   "name": "python",
   "version": "3.10.8"
  },
  "orig_nbformat": 4,
  "vscode": {
   "interpreter": {
    "hash": "660fc87a7a27382502019625602ab2dce0a506c47b015f31fc6c90aa0bb4905b"
   }
  }
 },
 "nbformat": 4,
 "nbformat_minor": 2
}
