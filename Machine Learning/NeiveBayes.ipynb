{
 "cells": [
  {
   "cell_type": "code",
   "execution_count": null,
   "metadata": {},
   "outputs": [],
   "source": [
    "import pandas as pd\n",
    "from sklearn import tree\n",
    "from sklearn.preprocessing import LabelEncoder\n",
    "from sklearn.naive_bayes import GaussianNB\n"
   ]
  },
  {
   "cell_type": "code",
   "execution_count": null,
   "metadata": {},
   "outputs": [],
   "source": [
    "data=pd.read_csv('PlayTennis.csv')\n",
    "print(\"First 5 values of the data is:\\n\",data.head())\n",
    "X=data.iloc[:,:-1]\n",
    "print(\"\\nThe First 5 values of the train data is\\n\",X.head())\n",
    "y=data.iloc[:,-1]\n",
    "print(\"\\nThe First 5 values of train output is\\n\",y.head())\n"
   ]
  },
  {
   "cell_type": "code",
   "execution_count": null,
   "metadata": {},
   "outputs": [],
   "source": [
    "le_outlook=LabelEncoder()\n",
    "X.outlook=le_outlook.fit_transform(X.outlook)\n",
    "le_tempearture=LabelEncoder()\n",
    "X.tempearture=le_tempearture.fit_transform(X.tempearture)\n",
    "le_humidity=LabelEncoder()\n",
    "X.humidity=le_humidity.fit_transform(X.humidity)\n",
    "le_wind=LabelEncoder()\n",
    "X.wind=le_wind.fit_transform(X.wind)\n",
    "print(\"\\nNow the Train Output is\\n\",X.head())\n"
   ]
  },
  {
   "cell_type": "code",
   "execution_count": null,
   "metadata": {},
   "outputs": [],
   "source": [
    "le_PlayTennis=LabelEncoder()\n",
    "y=le_PlayTennis.fit_transform(y)\n",
    "print(\"NOw the train output is\\n\",y)\n"
   ]
  },
  {
   "cell_type": "code",
   "execution_count": null,
   "metadata": {},
   "outputs": [],
   "source": [
    "from sklearn.model_selection import train_test_split\n",
    "X_train,X_test,y_train,y_test=train_test_split(X,y,test_size=0.20)\n",
    "classifier=GaussianNB()\n",
    "classifier.fit(X_train,y_train)\n"
   ]
  },
  {
   "cell_type": "code",
   "execution_count": null,
   "metadata": {},
   "outputs": [],
   "source": [
    "from sklearn.metrics import accuracy_score\n",
    "print(\"Accuracy is:\",accuracy_score(classifier.predict(X_test),y_test))\n",
    "classifier=GaussianNB()\n",
    "classifier.fit(X_train,y_train)\n"
   ]
  },
  {
   "cell_type": "code",
   "execution_count": null,
   "metadata": {},
   "outputs": [],
   "source": [
    "from sklearn.metrics import accuracy_score\n",
    "print(\"Accuracy is:\",accuracy_score(classifier.predict(X_test),y_test))"
   ]
  }
 ],
 "metadata": {
  "language_info": {
   "name": "python"
  },
  "orig_nbformat": 4
 },
 "nbformat": 4,
 "nbformat_minor": 2
}
