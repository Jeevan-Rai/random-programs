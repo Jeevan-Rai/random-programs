{
 "cells": [
  {
   "cell_type": "code",
   "execution_count": null,
   "metadata": {},
   "outputs": [],
   "source": [
    "from sklearn.datasets import load_iris\n",
    "from sklearn.neighbors import KNeighborsClassifier\n",
    "from sklearn.model_selection import train_test_split\n",
    "import numpy as np\n"
   ]
  },
  {
   "cell_type": "code",
   "execution_count": null,
   "metadata": {},
   "outputs": [],
   "source": [
    "dataset = load_iris()\n",
    "print(dataset)\n",
    "x_train,x_test,y_train,y_test=train_test_split(dataset[\"data\"],dataset[\"target\"],random)\n",
    "x_train,x_test,y_train,y_test=train_test_split(dataset[\"data\"],dataset[\"target\"],random_state=0)\n",
    "print(len(dataset[\"data\"]))\n",
    "print(x_train)\n",
    "print(len(x_test))\n"
   ]
  },
  {
   "cell_type": "code",
   "execution_count": null,
   "metadata": {},
   "outputs": [],
   "source": [
    "kn=KNeighborsClassifier(n_neighbors=1)\n",
    "kn.fit(x_train,y_train)\n",
    "for i in range(len(x_test)):\n",
    " x=x_test[i]\n",
    " x_new=np.array([x])\n",
    " prediction=kn.predict(x_new)\n"
   ]
  },
  {
   "cell_type": "code",
   "execution_count": null,
   "metadata": {},
   "outputs": [],
   "source": [
    "\n",
    "print(\"TARGET=\",y_test[i],dataset[\"target_names\"][y_test[i]],\"PREDICTED=\",prediction,dataset[\"target_names\"][prediction])\n",
    "print(kn.score(x_test,y_test))"
   ]
  }
 ],
 "metadata": {
  "language_info": {
   "name": "python"
  },
  "orig_nbformat": 4
 },
 "nbformat": 4,
 "nbformat_minor": 2
}
