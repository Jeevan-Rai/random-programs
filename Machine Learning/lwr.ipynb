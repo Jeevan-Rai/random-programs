{
 "cells": [
  {
   "cell_type": "code",
   "execution_count": null,
   "metadata": {},
   "outputs": [],
   "source": [
    "import pandas as pd\n",
    "import numpy as np\n",
    "import matplotlib.pyplot as plt\n",
    "def local_regression(x0,X,Y,tau):\n",
    " x0=np.r_[1,x0]\n",
    " X=np.c_[np.ones(len(X)),X]\n",
    " xw=X.T*radial_kernel(x0,X,tau)\n",
    " print(xw)\n",
    " beta=np.linalg.pinv(xw @ X)@ xw @ Y\n",
    " return x0 @ beta"
   ]
  },
  {
   "cell_type": "code",
   "execution_count": null,
   "metadata": {},
   "outputs": [],
   "source": [
    "print(np.r_[np.array([1,2,3]),0,0,0,np.array([4,5,6])])\n",
    "print(np.c_[np.array([1,2,3]),np.array([4,5,6])])"
   ]
  },
  {
   "cell_type": "code",
   "execution_count": null,
   "metadata": {},
   "outputs": [],
   "source": [
    "def radial_kernel(x0,X,tau):\n",
    " return np.exp(np.sum((X-x0)**2,axis=1)/(-2*tau*tau))"
   ]
  },
  {
   "cell_type": "code",
   "execution_count": null,
   "metadata": {},
   "outputs": [],
   "source": [
    "data=pd.read_csv(\"tips.csv\")\n",
    "data\n",
    "bill=data.total_bill.values\n",
    "tip=data.tip.values\n",
    "tau=10\n",
    "ypred=np.array([local_regression(x0,bill,tip,tau) for x0 in bill])\n",
    "SortIndex=bill.argsort(0)\n",
    "xsort=bill[SortIndex]\n",
    "plt.figure(figsize=(10,5))\n",
    "plt.scatter(bill,tip)\n",
    "plt.plot(xsort,ypred[SortIndex],color=\"red\",linewidth='5')\n",
    "plt.scatter(bill,tip,color=\"green\")\n",
    "plt.xlabel('Total Bill')\n",
    "plt.ylabel('Tip')\n",
    "plt.show()"
   ]
  }
 ],
 "metadata": {
  "kernelspec": {
   "display_name": "Python 3.10.8 64-bit (microsoft store)",
   "language": "python",
   "name": "python3"
  },
  "language_info": {
   "name": "python",
   "version": "3.10.8"
  },
  "orig_nbformat": 4,
  "vscode": {
   "interpreter": {
    "hash": "660fc87a7a27382502019625602ab2dce0a506c47b015f31fc6c90aa0bb4905b"
   }
  }
 },
 "nbformat": 4,
 "nbformat_minor": 2
}
