{
 "cells": [
  {
   "cell_type": "code",
   "execution_count": 3,
   "metadata": {},
   "outputs": [
    {
     "name": "stdout",
     "output_type": "stream",
     "text": [
      "Iteration 1:\n",
      "General Hypothesis []\n",
      "Specific Hypothesis ['Sunny', 'Warm', 'Normal', '       Strong', 'Warm', 'Same']\n",
      "\n",
      "\n",
      "Iteration 2:\n",
      "General Hypothesis []\n",
      "Specific Hypothesis ['Sunny', 'Warm', '?', '       Strong', 'Warm', 'Same']\n",
      "\n",
      "\n",
      "Iteration 3:\n",
      "General Hypothesis [['Sunny', '?', '?', '?', '?', '?'], ['?', 'Warm', '?', '?', '?', '?'], ['?', '?', '?', '?', '?', 'Same']]\n",
      "Specific Hypothesis ['Sunny', 'Warm', '?', '       Strong', 'Warm', 'Same']\n",
      "\n",
      "\n",
      "Iteration 4:\n",
      "General Hypothesis [['Sunny', '?', '?', '?', '?', '?'], ['?', 'Warm', '?', '?', '?', '?']]\n",
      "Specific Hypothesis ['Sunny', 'Warm', '?', '       Strong', '?', '?']\n",
      "\n",
      "\n"
     ]
    },
    {
     "ename": "",
     "evalue": "",
     "output_type": "error",
     "traceback": [
      "\u001b[1;31mThe Kernel crashed while executing code in the the current cell or a previous cell. Please review the code in the cell(s) to identify a possible cause of the failure. Click <a href='https://aka.ms/vscodeJupyterKernelCrash'>here</a> for more info. View Jupyter <a href='command:jupyter.viewOutput'>log</a> for further details."
     ]
    }
   ],
   "source": [
    "\n",
    "import csv\n",
    "\n",
    "data = []\n",
    "with open('cea.csv') as file:\n",
    "    d = csv.reader(file)\n",
    "    for line in d:\n",
    "        data.append(line)\n",
    "        # print(line)\n",
    "\n",
    "rows = len(data)-1\n",
    "attributes = len(data[0])-1\n",
    "s = ['0'] * attributes\n",
    "g = ['?'] * attributes\n",
    "temp = []\n",
    "\n",
    "for i in range(1, rows + 1):\n",
    "    if data[i][attributes] == 'Yes':\n",
    "        for j in range(attributes):\n",
    "            if s[j] == '0':\n",
    "                s[j] = data[i][j]\n",
    "            if s[j] != data[i][j]:\n",
    "                s[j] = '?'\n",
    "        for j in range(attributes):\n",
    "          for k in range(len(temp)):\n",
    "                try:\n",
    "                 if temp[k][j] != data[i][j] and temp[k][j] != '?':\n",
    "                      del temp[k]\n",
    "                except:\n",
    "                     pass\n",
    "    else:\n",
    "       for j in range(attributes):\n",
    "           if s[j] != '0' and s[j] != '?' and s[j] != data[i][j]:\n",
    "             g[j] = s[j]\n",
    "             temp.append(g)\n",
    "             g = ['?'] * attributes\n",
    "    print(\"Iteration {}:\".format(i))\n",
    "    print(\"General Hypothesis\", temp)\n",
    "    print(\"Specific Hypothesis\", s, end = '\\n\\n\\n')\n"
   ]
  }
 ],
 "metadata": {
  "kernelspec": {
   "display_name": "Python 3.10.8 64-bit (microsoft store)",
   "language": "python",
   "name": "python3"
  },
  "language_info": {
   "codemirror_mode": {
    "name": "ipython",
    "version": 3
   },
   "file_extension": ".py",
   "mimetype": "text/x-python",
   "name": "python",
   "nbconvert_exporter": "python",
   "pygments_lexer": "ipython3",
   "version": "3.10.9"
  },
  "orig_nbformat": 4,
  "vscode": {
   "interpreter": {
    "hash": "660fc87a7a27382502019625602ab2dce0a506c47b015f31fc6c90aa0bb4905b"
   }
  }
 },
 "nbformat": 4,
 "nbformat_minor": 2
}
