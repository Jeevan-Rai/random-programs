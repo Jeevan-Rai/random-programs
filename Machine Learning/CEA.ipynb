{
 "cells": [
  {
   "cell_type": "code",
   "execution_count": null,
   "metadata": {},
   "outputs": [],
   "source": [
    "\n",
    "import csv\n",
    "\n",
    "data = []\n",
    "with open('cea.csv') as file:\n",
    "    d = csv.reader(file)\n",
    "    for line in d:\n",
    "        data.append(line)\n",
    "        print(line)\n",
    "\n",
    "rows = len(data)-1\n",
    "attributes = len(data[0])-1\n",
    "s = ['0'] * attributes\n",
    "g = ['?'] * attributes\n",
    "temp = []\n",
    "\n",
    "for i in range(1, rows + 1):\n",
    "    if data[i][attributes] == 'Yes':\n",
    "        for j in range(attributes):\n",
    "            if s[j] == '0':\n",
    "                s[j] = data[i][j]\n",
    "            if s[j] != data[i][j]:\n",
    "                s[j] = '?'\n",
    "        for j in range(attributes):\n",
    "          for k in range(len(temp)):\n",
    "                try:\n",
    "                 if temp[k][j] != data[i][j] and temp[k][j] != '?':\n",
    "                      del temp[k]\n",
    "                except:\n",
    "                     pass\n",
    "    else:\n",
    "       for j in range(attributes):\n",
    "           if s[j] != '0' and s[j] != '?' and s[j] != data[i][j]:\n",
    "             g[j] = s[j]\n",
    "             temp.append(g)\n",
    "             g = ['?'] * attributes\n",
    "    print(\"Iteration {}:\".format(i))\n",
    "    print(\"General Hypothesis\", temp)\n",
    "    print(\"Specific Hypothesis\", s, end = '\\n\\n\\n')\n"
   ]
  }
 ],
 "metadata": {
  "language_info": {
   "name": "python"
  },
  "orig_nbformat": 4
 },
 "nbformat": 4,
 "nbformat_minor": 2
}
